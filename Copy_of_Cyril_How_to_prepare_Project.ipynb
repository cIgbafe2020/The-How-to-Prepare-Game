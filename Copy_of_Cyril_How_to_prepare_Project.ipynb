{
  "nbformat": 4,
  "nbformat_minor": 0,
  "metadata": {
    "colab": {
      "name": "Copy of Cyril_How to prepare - Project.ipynb",
      "provenance": [],
      "collapsed_sections": [],
      "include_colab_link": true
    },
    "kernelspec": {
      "name": "python3",
      "display_name": "Python 3"
    }
  },
  "cells": [
    {
      "cell_type": "markdown",
      "metadata": {
        "id": "view-in-github",
        "colab_type": "text"
      },
      "source": [
        "<a href=\"https://colab.research.google.com/github/cIgbafe2020/The-How-to-Prepare-Game/blob/main/Copy_of_Cyril_How_to_prepare_Project.ipynb\" target=\"_parent\"><img src=\"https://colab.research.google.com/assets/colab-badge.svg\" alt=\"Open In Colab\"/></a>"
      ]
    },
    {
      "cell_type": "markdown",
      "metadata": {
        "id": "4XpOTJPBlSoR"
      },
      "source": [
        "# Preject\n"
      ]
    },
    {
      "cell_type": "markdown",
      "metadata": {
        "id": "kLX6IKeX4aeA"
      },
      "source": [
        "## The tasks\n",
        "\n",
        "1.   *How to prepare*\n",
        "\n",
        "\n",
        "\n"
      ]
    },
    {
      "cell_type": "code",
      "metadata": {
        "id": "4k8iK5jFCUxu"
      },
      "source": [
        "\n",
        "vegetables = ['Carrots', 'Lettuce', 'Mushrooms', 'Potatoes', 'Garlic', 'Cabbages']\n",
        "fruits = ['Cucumber', 'Melons', 'Tomatoes', 'Eggplant']\n",
        "v = vegetables\n",
        "f = fruits\n",
        "categories = ['vegetables', 'fruits']\n",
        "y = 'yes'\n",
        "n = 'no'\n",
        "tocontinue = 'y'\n",
        "## when product choice is vegetables\n",
        "Mushrooms_instructions = ('Here is information how to prepeare them\\nCultivated mushroom do not need peeling, Do not wash.')\n",
        "Garlic_instructions = (\"Here is information how to prepare it:\\n Take one of the cloves and hit it with the side of your knife.\\n You can then peel the skin. To mince the clove of garlic, \\n make lengthwise cuts with your chef's knife down one side.\\n Flip the garlic over, cut it once, then you'll be able to chop it into fine pieces \")\n",
        "Potatoes_instructions = (\"Here's information how to prepeare them:\\n Top a baked potato with low-fat or fat-free sour cream, some shredded cheese, and chives or broccoli.\\n Cut potatoes into strips, brush on a little olive oil and bake in the oven to make your own healthy French fries. \")\n",
        "Carrots_instructions  = (\"Here is how to prepare them:\\n Just place diced or baby carrots in a shallow bowl, add a few drops of water and cover with a moist paper towel. \\n Microwave your carrots until they're tender enough for you to enjoy.\")\n",
        "Gabbages_instructions = (\"This's how to preprare them:\\n Rinse if necessary, then chop or slice.\\nFor tightly-packaged cabbages, strip the outer leaves in the same way, wash, then slice into quarters, \\ncut out the hard central core on each one, then chop or shred.  \")\n",
        "Lettuce_instructions = (\"Here's how to prepare them:\\n Place the lettuce on a clean work surface. \\nSeparate the lettuce leaves.Wash the leaves of a large bowl of water. \\nTransfer the leaves to a colander, gently shake to remove water.  \")\n",
        "\n",
        "## when product choice is fruits\n",
        "Melon_instructions = (\"This's how to prepare them:\\n We recommend that you rinse  a whole cantaloupe under cool running water, \\ngently scrub the rind with a natural bristle brush,\\n and then pat dry before you slice it open.\")\n",
        "Eggplant_instructions =(\"Here's how to prepare them:\\n Start by trimming off the top and bottom of the eggplant, removing the stems and leaves.\\n If desired, peel away the thick skin. Then slice into 1/2-inch to 1-inch rounds.\")\n",
        "Cucumber_instructions =(\"This's how to prepare them:\\nRemove stems and slice off blossom ends. Cut cucumbers into thick slices (1/4 to 1/2 inch thick).\")\n",
        "Tomatoes_instructions = (\"Here'show to prepare them:\\n Wash tomatoes in cold water before use.\\n Slice tomatoes vertically for salads and sandwiches to prevent the juice and seeds spilling out.\")"
      ],
      "execution_count": null,
      "outputs": []
    },
    {
      "cell_type": "code",
      "metadata": {
        "id": "xSoT8hJVMBfZ",
        "colab": {
          "base_uri": "https://localhost:8080/",
          "height": 561
        },
        "outputId": "b7642f6d-7171-4837-ec54-3a1e5b91472a"
      },
      "source": [
        "#while tocontinue == 'y':\n",
        "product_choice = input('what kind of product you have - vegetable(v) or fruit(f)?: \\n')\n",
        "while True:\n",
        "    if product_choice in 'vegetables' and product_choice !='':\n",
        "        print('you have chosen vegetables category!')\n",
        "        v = input('select vegetable : \\n ').lower()\n",
        "        if v == 'mushrooms' :\n",
        "            print(Mushrooms_instructions)\n",
        "        elif v == 'garlic':\n",
        "            print(Garlic_instructions)\n",
        "     \n",
        "        elif v == 'potatoes':\n",
        "            print(Potatoes_instructions)\n",
        "        elif v == 'carrots': \n",
        "            print(Carrots_instructions)\n",
        "        elif v == 'gabbages':\n",
        "            print(Gabbages_instructions)\n",
        "        elif v == 'lettuce':\n",
        "            print(Lettuce_instructions)\n",
        "        else:\n",
        "            print('it is not available, enter the correct choice')\n",
        "        another = input('Enter another? (y/n)').lower()\n",
        "        if another == 'y':\n",
        "            continue\n",
        "        else:\n",
        "            print('Thank you,Goodbye!!!')\n",
        "            break\n",
        "\n",
        "    elif product_choice in 'fruits' and product_choice !='':\n",
        "        print(\"you've chosen fruits category!\")\n",
        "        f = input(\"select fruit : \\n\").lower()\n",
        "        if f=='melon':\n",
        "            print(Melon_instructions)\n",
        "        elif f == 'eggplant':\n",
        "            print(Eggplant_instructions)\n",
        "        elif f == 'cucumber':\n",
        "            print(Cucumber_instructions)\n",
        "        elif f == 'tomatoes':\n",
        "            print(Tomatoes_instructions)\n",
        "        else:\n",
        "            print('it is not available, enter the correct choice')\n",
        "        another = input('Enter another? (y/n) \\n').lower()\n",
        "        if another == 'y':\n",
        "            continue\n",
        "        else:\n",
        "            print(\"Thank you, goodbye!\")\n",
        "            break\n",
        "\n",
        "    else:\n",
        "        print('You must choose between vegetable or fruit')\n",
        "        break\n",
        "\n",
        "#tocontinue = input(\"Do you want to continue?\\n \")\n",
        "#if tocontinue =='n':\n",
        "#    print(\"Thank you!goodby!\")\n",
        " \n",
        "\n",
        "  "
      ],
      "execution_count": null,
      "outputs": [
        {
          "output_type": "stream",
          "text": [
            "what kind of product you have - vegetable(v) or fruit(f)?: \n",
            "v\n",
            "you have chosen vegetables category!\n",
            "select vegetable : \n",
            " Garlic\n",
            "Here is information how to prepare it:\n",
            " Take one of the cloves and hit it with the side of your knife.\n",
            " You can then peel the skin. To mince the clove of garlic, \n",
            " make lengthwise cuts with your chef's knife down one side.\n",
            " Flip the garlic over, cut it once, then you'll be able to chop it into fine pieces \n",
            "Enter another? (y/n)y\n",
            "you have chosen vegetables category!\n",
            "select vegetable : \n",
            " Potatos\n",
            "it is not available, enter the correct choice\n",
            "Enter another? (y/n)y\n",
            "you have chosen vegetables category!\n",
            "select vegetable : \n",
            " Potatoes\n",
            "Here's information how to prepeare them:\n",
            " Top a baked potato with low-fat or fat-free sour cream, some shredded cheese, and chives or broccoli.\n",
            " Cut potatoes into strips, brush on a little olive oil and bake in the oven to make your own healthy French fries. \n",
            "Enter another? (y/n)y\n",
            "you have chosen vegetables category!\n",
            "select vegetable : \n",
            " Lettuce\n",
            "Here's how to prepare them:\n",
            " Place the lettuce on a clean work surface. \n",
            "Separate the lettuce leaves.Wash the leaves of a large bowl of water. \n",
            "Transfer the leaves to a colander, gently shake to remove water.  \n",
            "Enter another? (y/n)n\n",
            "Thank you,Goodbye!!!\n"
          ],
          "name": "stdout"
        }
      ]
    },
    {
      "cell_type": "code",
      "metadata": {
        "id": "daYzIp1pPF_G"
      },
      "source": [
        ""
      ],
      "execution_count": null,
      "outputs": []
    }
  ]
}